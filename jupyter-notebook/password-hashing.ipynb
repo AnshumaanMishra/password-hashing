{
  "nbformat": 4,
  "nbformat_minor": 0,
  "metadata": {
    "colab": {
      "provenance": []
    },
    "kernelspec": {
      "name": "python3",
      "display_name": "Python 3"
    },
    "language_info": {
      "name": "python"
    }
  },
  "cells": [
    {
      "cell_type": "markdown",
      "source": [
        "# Character Database"
      ],
      "metadata": {
        "id": "xbsUfBErHddu"
      }
    },
    {
      "cell_type": "code",
      "source": [
        "characters = \"19ZFohA8D4rekqRSVLnHK62vYWslOtU5jIfPBJi0mg7cQdEMaxbwzCXuGp3NTy\"\n",
        "print(len(characters))"
      ],
      "metadata": {
        "id": "TENrCMUdHfHf"
      },
      "execution_count": null,
      "outputs": []
    },
    {
      "cell_type": "markdown",
      "source": [
        "# Helper Functions"
      ],
      "metadata": {
        "id": "E8raTOHOI2Or"
      }
    },
    {
      "cell_type": "code",
      "source": [
        "def validPassword(password):\n",
        "  if(len(password) < 8):\n",
        "    return False\n",
        "  upper = 0\n",
        "  lower = 0\n",
        "  number = 0\n",
        "  for char in password:\n",
        "    if(char not in characters):\n",
        "      return False\n",
        "    else:\n",
        "      if(char.isupper()):\n",
        "        upper += 1\n",
        "      elif(char.islower()):\n",
        "        lower += 1\n",
        "      elif(char.isdigit()):\n",
        "        number += 1\n",
        "  if(upper == 0 or lower == 0 or number == 0):\n",
        "    return False\n",
        "  return True"
      ],
      "metadata": {
        "id": "_ZL-6V1-I4Fq"
      },
      "execution_count": 3,
      "outputs": []
    },
    {
      "cell_type": "code",
      "source": [
        "def validUsername(username):\n",
        "  if(len(username) < 8):\n",
        "    return False\n",
        "  for char in username:\n",
        "    if(char not in characters):\n",
        "      return False\n",
        "  return True"
      ],
      "metadata": {
        "id": "jBZE0JSOcH9O"
      },
      "execution_count": 4,
      "outputs": []
    },
    {
      "cell_type": "code",
      "source": [
        "def getOrd(character, modifier):\n",
        "  if(character.islower()):\n",
        "      return ord(character) - ord('a') + modifier + 1\n",
        "  if(character.isupper()):\n",
        "      return ord(character) - ord('A') + modifier + 27\n",
        "  if(character.isdigit()):\n",
        "      return ord(character) - ord('0') + modifier + 52\n",
        "  return 0"
      ],
      "metadata": {
        "id": "jj3KW7Q0P18e"
      },
      "execution_count": 5,
      "outputs": []
    },
    {
      "cell_type": "code",
      "source": [
        "def getConcat(char1, char2, modifier):\n",
        "  answer = getOrd(char1, modifier) % len(characters) - getOrd(char2, modifier) % len(characters)\n",
        "  if(answer < 0):\n",
        "    answer *= -1\n",
        "  return characters[answer]"
      ],
      "metadata": {
        "id": "B_8RJYxzNCw8"
      },
      "execution_count": 6,
      "outputs": []
    },
    {
      "cell_type": "code",
      "source": [
        "def generateHash(username, Hashlen):\n",
        "  hash = ''\n",
        "  iter = 0\n",
        "  for i in range(Hashlen):\n",
        "    safeindex = i % len(username)\n",
        "    hash += getConcat(username[safeindex], username[(safeindex + 1 + iter) % len(username)], getOrd(username[safeindex], iter + safeindex))\n",
        "    if(safeindex + 1 == len(username)):\n",
        "      iter += 1\n",
        "  return hash"
      ],
      "metadata": {
        "id": "j2hAHVV3MKb4"
      },
      "execution_count": null,
      "outputs": []
    },
    {
      "cell_type": "markdown",
      "source": [
        "# Register/Login Script"
      ],
      "metadata": {
        "id": "VIqVvA-IH-5f"
      }
    },
    {
      "cell_type": "markdown",
      "source": [
        "### File Initialization"
      ],
      "metadata": {
        "id": "ZOqkoX5OIB4W"
      }
    },
    {
      "cell_type": "code",
      "source": [
        "def register():\n",
        "  try:\n",
        "    file1 = open(\"./data.txt\", \"r\")\n",
        "    data = file1.read()\n",
        "    file1.close()\n",
        "  except FileNotFoundError:\n",
        "    data = ''\n",
        "\n",
        "  file1 = open(\"./data.txt\", \"a\")\n",
        "  username = input(\"Enter your username(at Least 8 characters): \")\n",
        "  while (not validUsername(username)):\n",
        "    username = input(\"Username must have at least 8 characters: \")\n",
        "  print(\"Your Password must:\\n\\t1. Have at Least 8 characters\\n\\t2. Have no special character\\n\\t3. Have at least one uppercase character\\n\\t4. Have at least one lowercase character\\n\\t5. Have at least one digit\")\n",
        "  password = input(\"Enter your password: \")\n",
        "  while (not validPassword(password)):\n",
        "    print(\"Invalid password\")\n",
        "    password = input(\"Enter your password: \")\n",
        "  key = generateHash(username, 24)\n",
        "  if(data.find(key + \"\\n\") >= 0 or data.startswith(key)):\n",
        "    print(\"User already Exists\")\n",
        "    file1.close()\n",
        "    register()\n",
        "  else:\n",
        "    data = key + generateHash(password, 40) + \"\\n\"\n",
        "    file1.write(data)\n",
        "    print(\"Successfully Registered\")\n",
        "    file1.close()"
      ],
      "metadata": {
        "id": "R0afonUuIdAc"
      },
      "execution_count": 30,
      "outputs": []
    },
    {
      "cell_type": "code",
      "source": [
        "register()"
      ],
      "metadata": {
        "id": "L7WJFCn5iXv8"
      },
      "execution_count": null,
      "outputs": []
    },
    {
      "cell_type": "code",
      "source": [
        "def login():\n",
        "  file1 = open(\"./data.txt\", \"r\")\n",
        "  data = file1.read()\n",
        "  file1.close()\n",
        "  username = input(\"Enter your username: \")\n",
        "  password = input(\"Enter your password: \")\n",
        "  key = (generateHash(username, 24) + generateHash(password, 40))\n",
        "  if(data.find(key) >= 0):\n",
        "    print(\"Welcome!\")\n",
        "  else:\n",
        "    print(\"Invalid Username or Password\")\n",
        "    login()\n"
      ],
      "metadata": {
        "id": "fa0GIQcqIPkj"
      },
      "execution_count": 17,
      "outputs": []
    },
    {
      "cell_type": "code",
      "source": [
        "login()"
      ],
      "metadata": {
        "id": "8-T7RRplkUm9"
      },
      "execution_count": null,
      "outputs": []
    }
  ]
}