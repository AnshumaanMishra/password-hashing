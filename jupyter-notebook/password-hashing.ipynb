{
  "cells": [
    {
      "cell_type": "markdown",
      "metadata": {
        "id": "xbsUfBErHddu"
      },
      "source": [
        "# Character Database"
      ]
    },
    {
      "cell_type": "code",
      "execution_count": 1,
      "metadata": {
        "colab": {
          "base_uri": "https://localhost:8080/"
        },
        "id": "TENrCMUdHfHf",
        "outputId": "e088828f-654b-4e21-f8d6-2b021a286f6a"
      },
      "outputs": [
        {
          "name": "stdout",
          "output_type": "stream",
          "text": [
            "16\n"
          ]
        }
      ],
      "source": [
        "characters = \"0123456789abcdef\"\n",
        "print(len(characters))"
      ]
    },
    {
      "cell_type": "markdown",
      "metadata": {
        "id": "E8raTOHOI2Or"
      },
      "source": [
        "# Helper Functions"
      ]
    },
    {
      "cell_type": "code",
      "execution_count": 2,
      "metadata": {
        "id": "_ZL-6V1-I4Fq"
      },
      "outputs": [],
      "source": [
        "def validPassword(password):\n",
        "  if(len(password) < 8):\n",
        "    return False\n",
        "  upper = 0\n",
        "  lower = 0\n",
        "  number = 0\n",
        "  for char in password:\n",
        "    if(char.isupper()):\n",
        "      upper += 1\n",
        "    elif(char.islower()):\n",
        "      lower += 1\n",
        "    elif(char.isdigit()):\n",
        "      number += 1\n",
        "  if(upper == 0 or lower == 0 or number == 0):\n",
        "    return False\n",
        "  return True"
      ]
    },
    {
      "cell_type": "code",
      "execution_count": 3,
      "metadata": {
        "id": "jBZE0JSOcH9O"
      },
      "outputs": [],
      "source": [
        "def validUsername(username):\n",
        "  if(len(username) < 8):\n",
        "    return False\n",
        "  return True"
      ]
    },
    {
      "cell_type": "code",
      "execution_count": 4,
      "metadata": {
        "id": "jj3KW7Q0P18e"
      },
      "outputs": [],
      "source": [
        "def getOrd(character, modifier):\n",
        "  if(character.islower()):\n",
        "      return ord(character) - ord('a') + modifier + 1\n",
        "  if(character.isupper()):\n",
        "      return ord(character) - ord('A') + modifier + 27\n",
        "  if(character.isdigit()):\n",
        "      return ord(character) - ord('0') + modifier + 52\n",
        "  return 0"
      ]
    },
    {
      "cell_type": "code",
      "execution_count": 5,
      "metadata": {
        "id": "B_8RJYxzNCw8"
      },
      "outputs": [],
      "source": [
        "def getConcat(char1, char2, modifier):\n",
        "  answer = getOrd(char1, modifier) % len(characters) - getOrd(char2, modifier) % len(characters)\n",
        "  if(answer < 0):\n",
        "    answer *= -1\n",
        "  return characters[answer]"
      ]
    },
    {
      "cell_type": "code",
      "execution_count": 6,
      "metadata": {
        "id": "j2hAHVV3MKb4"
      },
      "outputs": [],
      "source": [
        "def generateHash(username, Hashlen):\n",
        "  hash = ''\n",
        "  iter = 0\n",
        "  for i in range(Hashlen):\n",
        "    safeindex = i % len(username)\n",
        "    hash += getConcat(username[safeindex], username[(safeindex + 1 + iter) % len(username)], getOrd(username[safeindex], iter + safeindex))\n",
        "    if(safeindex + 1 == len(username)):\n",
        "      iter += 1\n",
        "  return hash"
      ]
    },
    {
      "cell_type": "markdown",
      "metadata": {
        "id": "VIqVvA-IH-5f"
      },
      "source": [
        "# Register/Login Script"
      ]
    },
    {
      "cell_type": "markdown",
      "metadata": {
        "id": "ZOqkoX5OIB4W"
      },
      "source": [
        "### File Initialization"
      ]
    },
    {
      "cell_type": "code",
      "execution_count": 7,
      "metadata": {
        "id": "R0afonUuIdAc"
      },
      "outputs": [],
      "source": [
        "def register():\n",
        "  try:\n",
        "    file1 = open(\"./data.txt\", \"r\")\n",
        "    data = file1.read()\n",
        "    file1.close()\n",
        "  except FileNotFoundError:\n",
        "    data = ''\n",
        "\n",
        "  file1 = open(\"./data.txt\", \"a\")\n",
        "  username = input(\"Enter your username(at Least 8 characters): \")\n",
        "  while (not validUsername(username)):\n",
        "    username = input(\"Username must have at least 8 characters: \")\n",
        "  print(\"Your Password must:\\n\\t1. Have at Least 8 characters\\n\\t2. Have no special character\\n\\t3. Have at least one uppercase character\\n\\t4. Have at least one lowercase character\\n\\t5. Have at least one digit\")\n",
        "  password = input(\"Enter your password: \")\n",
        "  while (not validPassword(password)):\n",
        "    print(\"Invalid password\")\n",
        "    password = input(\"Enter your password: \")\n",
        "  key = generateHash(username, 24)\n",
        "  if(data.find(key + \"\\n\") >= 0 or data.startswith(key)):\n",
        "    print(\"User already Exists\")\n",
        "    file1.close()\n",
        "    register()\n",
        "  else:\n",
        "    data = generateHash(key + password, 64) + \"\\n\"\n",
        "    file1.write(data)\n",
        "    print(\"Successfully Registered\")\n",
        "    file1.close()"
      ]
    },
    {
      "cell_type": "code",
      "execution_count": 11,
      "metadata": {
        "colab": {
          "base_uri": "https://localhost:8080/"
        },
        "id": "L7WJFCn5iXv8",
        "outputId": "b2ad5786-48c2-4bc2-8e80-cb63cac7ec24"
      },
      "outputs": [
        {
          "name": "stdout",
          "output_type": "stream",
          "text": [
            "Your Password must:\n",
            "\t1. Have at Least 8 characters\n",
            "\t2. Have no special character\n",
            "\t3. Have at least one uppercase character\n",
            "\t4. Have at least one lowercase character\n",
            "\t5. Have at least one digit\n",
            "Successfully Registered\n"
          ]
        }
      ],
      "source": [
        "register()"
      ]
    },
    {
      "cell_type": "code",
      "execution_count": 9,
      "metadata": {
        "id": "fa0GIQcqIPkj"
      },
      "outputs": [],
      "source": [
        "def login():\n",
        "  file1 = open(\"./data.txt\", \"r\")\n",
        "  data = file1.read()\n",
        "  file1.close()\n",
        "  username = input(\"Enter your username: \")\n",
        "  password = input(\"Enter your password: \")\n",
        "  key = (generateHash(generateHash(username, 24) + password, 64))\n",
        "  if(data.find(key) >= 0):\n",
        "    print(\"Welcome!\")\n",
        "  else:\n",
        "    print(\"Invalid Username or Password\")\n",
        "    login()\n"
      ]
    },
    {
      "cell_type": "code",
      "execution_count": 10,
      "metadata": {
        "colab": {
          "base_uri": "https://localhost:8080/"
        },
        "id": "8-T7RRplkUm9",
        "outputId": "c8c6f7f4-7155-41d7-a266-f3bc30413519"
      },
      "outputs": [
        {
          "ename": "KeyboardInterrupt",
          "evalue": "Interrupted by user",
          "output_type": "error",
          "traceback": [
            "\u001b[0;31m---------------------------------------------------------------------------\u001b[0m",
            "\u001b[0;31mKeyboardInterrupt\u001b[0m                         Traceback (most recent call last)",
            "Cell \u001b[0;32mIn[10], line 1\u001b[0m\n\u001b[0;32m----> 1\u001b[0m \u001b[43mlogin\u001b[49m\u001b[43m(\u001b[49m\u001b[43m)\u001b[49m\n",
            "Cell \u001b[0;32mIn[9], line 5\u001b[0m, in \u001b[0;36mlogin\u001b[0;34m()\u001b[0m\n\u001b[1;32m      3\u001b[0m data \u001b[38;5;241m=\u001b[39m file1\u001b[38;5;241m.\u001b[39mread()\n\u001b[1;32m      4\u001b[0m file1\u001b[38;5;241m.\u001b[39mclose()\n\u001b[0;32m----> 5\u001b[0m username \u001b[38;5;241m=\u001b[39m \u001b[38;5;28;43minput\u001b[39;49m\u001b[43m(\u001b[49m\u001b[38;5;124;43m\"\u001b[39;49m\u001b[38;5;124;43mEnter your username: \u001b[39;49m\u001b[38;5;124;43m\"\u001b[39;49m\u001b[43m)\u001b[49m\n\u001b[1;32m      6\u001b[0m password \u001b[38;5;241m=\u001b[39m \u001b[38;5;28minput\u001b[39m(\u001b[38;5;124m\"\u001b[39m\u001b[38;5;124mEnter your password: \u001b[39m\u001b[38;5;124m\"\u001b[39m)\n\u001b[1;32m      7\u001b[0m key \u001b[38;5;241m=\u001b[39m (generateHash(generateHash(username, \u001b[38;5;241m24\u001b[39m) \u001b[38;5;241m+\u001b[39m password, \u001b[38;5;241m64\u001b[39m))\n",
            "File \u001b[0;32m~/Development/Python/password-hashing/hashing/lib64/python3.11/site-packages/ipykernel/kernelbase.py:1282\u001b[0m, in \u001b[0;36mKernel.raw_input\u001b[0;34m(self, prompt)\u001b[0m\n\u001b[1;32m   1280\u001b[0m     msg \u001b[38;5;241m=\u001b[39m \u001b[38;5;124m\"\u001b[39m\u001b[38;5;124mraw_input was called, but this frontend does not support input requests.\u001b[39m\u001b[38;5;124m\"\u001b[39m\n\u001b[1;32m   1281\u001b[0m     \u001b[38;5;28;01mraise\u001b[39;00m StdinNotImplementedError(msg)\n\u001b[0;32m-> 1282\u001b[0m \u001b[38;5;28;01mreturn\u001b[39;00m \u001b[38;5;28;43mself\u001b[39;49m\u001b[38;5;241;43m.\u001b[39;49m\u001b[43m_input_request\u001b[49m\u001b[43m(\u001b[49m\n\u001b[1;32m   1283\u001b[0m \u001b[43m    \u001b[49m\u001b[38;5;28;43mstr\u001b[39;49m\u001b[43m(\u001b[49m\u001b[43mprompt\u001b[49m\u001b[43m)\u001b[49m\u001b[43m,\u001b[49m\n\u001b[1;32m   1284\u001b[0m \u001b[43m    \u001b[49m\u001b[38;5;28;43mself\u001b[39;49m\u001b[38;5;241;43m.\u001b[39;49m\u001b[43m_parent_ident\u001b[49m\u001b[43m[\u001b[49m\u001b[38;5;124;43m\"\u001b[39;49m\u001b[38;5;124;43mshell\u001b[39;49m\u001b[38;5;124;43m\"\u001b[39;49m\u001b[43m]\u001b[49m\u001b[43m,\u001b[49m\n\u001b[1;32m   1285\u001b[0m \u001b[43m    \u001b[49m\u001b[38;5;28;43mself\u001b[39;49m\u001b[38;5;241;43m.\u001b[39;49m\u001b[43mget_parent\u001b[49m\u001b[43m(\u001b[49m\u001b[38;5;124;43m\"\u001b[39;49m\u001b[38;5;124;43mshell\u001b[39;49m\u001b[38;5;124;43m\"\u001b[39;49m\u001b[43m)\u001b[49m\u001b[43m,\u001b[49m\n\u001b[1;32m   1286\u001b[0m \u001b[43m    \u001b[49m\u001b[43mpassword\u001b[49m\u001b[38;5;241;43m=\u001b[39;49m\u001b[38;5;28;43;01mFalse\u001b[39;49;00m\u001b[43m,\u001b[49m\n\u001b[1;32m   1287\u001b[0m \u001b[43m\u001b[49m\u001b[43m)\u001b[49m\n",
            "File \u001b[0;32m~/Development/Python/password-hashing/hashing/lib64/python3.11/site-packages/ipykernel/kernelbase.py:1325\u001b[0m, in \u001b[0;36mKernel._input_request\u001b[0;34m(self, prompt, ident, parent, password)\u001b[0m\n\u001b[1;32m   1322\u001b[0m \u001b[38;5;28;01mexcept\u001b[39;00m \u001b[38;5;167;01mKeyboardInterrupt\u001b[39;00m:\n\u001b[1;32m   1323\u001b[0m     \u001b[38;5;66;03m# re-raise KeyboardInterrupt, to truncate traceback\u001b[39;00m\n\u001b[1;32m   1324\u001b[0m     msg \u001b[38;5;241m=\u001b[39m \u001b[38;5;124m\"\u001b[39m\u001b[38;5;124mInterrupted by user\u001b[39m\u001b[38;5;124m\"\u001b[39m\n\u001b[0;32m-> 1325\u001b[0m     \u001b[38;5;28;01mraise\u001b[39;00m \u001b[38;5;167;01mKeyboardInterrupt\u001b[39;00m(msg) \u001b[38;5;28;01mfrom\u001b[39;00m \u001b[38;5;28;01mNone\u001b[39;00m\n\u001b[1;32m   1326\u001b[0m \u001b[38;5;28;01mexcept\u001b[39;00m \u001b[38;5;167;01mException\u001b[39;00m:\n\u001b[1;32m   1327\u001b[0m     \u001b[38;5;28mself\u001b[39m\u001b[38;5;241m.\u001b[39mlog\u001b[38;5;241m.\u001b[39mwarning(\u001b[38;5;124m\"\u001b[39m\u001b[38;5;124mInvalid Message:\u001b[39m\u001b[38;5;124m\"\u001b[39m, exc_info\u001b[38;5;241m=\u001b[39m\u001b[38;5;28;01mTrue\u001b[39;00m)\n",
            "\u001b[0;31mKeyboardInterrupt\u001b[0m: Interrupted by user"
          ]
        }
      ],
      "source": [
        "login()"
      ]
    }
  ],
  "metadata": {
    "colab": {
      "provenance": []
    },
    "kernelspec": {
      "display_name": "hashing",
      "language": "python",
      "name": "python3"
    },
    "language_info": {
      "codemirror_mode": {
        "name": "ipython",
        "version": 3
      },
      "file_extension": ".py",
      "mimetype": "text/x-python",
      "name": "python",
      "nbconvert_exporter": "python",
      "pygments_lexer": "ipython3",
      "version": "3.11.11"
    }
  },
  "nbformat": 4,
  "nbformat_minor": 0
}
